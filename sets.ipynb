{
 "cells": [
  {
   "cell_type": "code",
   "execution_count": 12,
   "metadata": {},
   "outputs": [
    {
     "name": "stdout",
     "output_type": "stream",
     "text": [
      "{1, 2, 3, 4}\n"
     ]
    }
   ],
   "source": [
    "#the unordered collection of unique elements in python\n",
    "#-----------------------------------------------------ADD-------------------------------------------\n",
    "my_set={1,2,3}\n",
    "my_set.add(4)\n",
    "print(my_set)"
   ]
  },
  {
   "cell_type": "code",
   "execution_count": 21,
   "metadata": {},
   "outputs": [
    {
     "name": "stdout",
     "output_type": "stream",
     "text": [
      "{1, 2, 3}\n",
      "{1, 2, 3, 4, 5, 'hello'}\n",
      "<class 'set'>\n"
     ]
    }
   ],
   "source": [
    "#-----------------------------------------------ADD SET IN SET-------------------------------------------------------\n",
    "my_set={1,2,3}\n",
    "print(my_set)\n",
    "my_set2={4,5,\"hello\"}\n",
    "my_set3=my_set.union(my_set2)\n",
    "print(my_set3)\n",
    "print(type(my_set3))\n"
   ]
  },
  {
   "cell_type": "code",
   "execution_count": 9,
   "metadata": {},
   "outputs": [
    {
     "name": "stdout",
     "output_type": "stream",
     "text": [
      "{1, 2, 3, 5, 6, 7, 8, 9}\n"
     ]
    }
   ],
   "source": [
    "#-------------------------------------------------REMOVE--------------------------------------------\n",
    "my_set={1,2,3,4,5,6,7,8,9}\n",
    "my_set.remove(4)\n",
    "print(my_set)"
   ]
  },
  {
   "cell_type": "code",
   "execution_count": 17,
   "metadata": {},
   "outputs": [
    {
     "name": "stdout",
     "output_type": "stream",
     "text": [
      "{2, 3}\n"
     ]
    }
   ],
   "source": [
    "#------------------------------------------------INTERSECTION()-----------------------------------------\n",
    "#for common things\n",
    "my_set={1,2,3}\n",
    "my_set2={4,5,3,2}\n",
    "my_set=my_set.intersection(my_set2)\n",
    "print(my_set)"
   ]
  },
  {
   "cell_type": "code",
   "execution_count": 19,
   "metadata": {},
   "outputs": [
    {
     "name": "stdout",
     "output_type": "stream",
     "text": [
      "{4, 5}\n"
     ]
    }
   ],
   "source": [
    "#---------------------------------------------------DIFFERENCE()-------------------------------------\n",
    "my_set1={1,2,3}\n",
    "my_set2={4,5,3,2}\n",
    "my_set=my_set2.difference(my_set1)\n",
    "print(my_set)"
   ]
  }
 ],
 "metadata": {
  "kernelspec": {
   "display_name": "Python 3",
   "language": "python",
   "name": "python3"
  },
  "language_info": {
   "codemirror_mode": {
    "name": "ipython",
    "version": 3
   },
   "file_extension": ".py",
   "mimetype": "text/x-python",
   "name": "python",
   "nbconvert_exporter": "python",
   "pygments_lexer": "ipython3",
   "version": "3.11.4"
  }
 },
 "nbformat": 4,
 "nbformat_minor": 2
}
