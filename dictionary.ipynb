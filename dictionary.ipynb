{
 "cells": [
  {
   "cell_type": "code",
   "execution_count": 26,
   "metadata": {},
   "outputs": [
    {
     "name": "stdout",
     "output_type": "stream",
     "text": [
      "{'name': 'aditya', 'age': 26, 'grade': 'A'}\n",
      "{'name': 'aditya', 'age': 26, 'grade': 'A', 'city': 'new york'}\n"
     ]
    }
   ],
   "source": [
    "student={\n",
    "    \"name\":\"aditya\",\n",
    "    \"age\":25,\n",
    "    \"grade\":\"A\"\n",
    "}\n",
    "student.get(\"name\")\n",
    "# name=student[\"name\"]\n",
    "# print(name)\n",
    "student[\"age\"]=26\n",
    "print(student)\n",
    "student[\"city\"]=\"new york\"\n",
    "print(student)"
   ]
  },
  {
   "cell_type": "code",
   "execution_count": 27,
   "metadata": {},
   "outputs": [
    {
     "name": "stdout",
     "output_type": "stream",
     "text": [
      "name:aditya\n",
      "{key}:{value}\n",
      "age:25\n",
      "{key}:{value}\n",
      "grade:A\n",
      "{key}:{value}\n"
     ]
    }
   ],
   "source": [
    "student={\n",
    "    \"name\":\"aditya\",\n",
    "    \"age\":25,\n",
    "    \"grade\":\"A\"\n",
    "}\n",
    "for  key, value in student.items():\n",
    "    print(f\"{key}:{value}\")\n",
    "    print(\"{key}:{value}\")"
   ]
  },
  {
   "cell_type": "code",
   "execution_count": 28,
   "metadata": {},
   "outputs": [
    {
     "name": "stdout",
     "output_type": "stream",
     "text": [
      "{'name': 'aditya', 'grade': 'A', 'phone': 'x343435456'}\n"
     ]
    }
   ],
   "source": [
    "student={\n",
    "    \"name\":\"aditya\",\n",
    "    \"age\":25,\n",
    "    \"grade\":\"A\"\n",
    "}\n",
    "del student[\"age\"]\n",
    "student[\"phone\"]=\"x343435456\"\n",
    "print(student)"
   ]
  },
  {
   "cell_type": "code",
   "execution_count": 33,
   "metadata": {},
   "outputs": [
    {
     "name": "stdout",
     "output_type": "stream",
     "text": [
      "({1: 10, 2: 20}, {3: 30, 4: 40}, {5: 50, 6: 60})\n"
     ]
    }
   ],
   "source": [
    "dic1={1:10,2:20}\n",
    "dic2={3:30,4:40}\n",
    "dic3={5:50,6:60}\n",
    "dic4=(dic1,dic2,dic3)\n",
    "print(dic4)"
   ]
  },
  {
   "cell_type": "code",
   "execution_count": 30,
   "metadata": {},
   "outputs": [
    {
     "name": "stdout",
     "output_type": "stream",
     "text": [
      "{1: 10, 2: 20, 3: 30, 4: 40, 5: 50, 6: 60}\n"
     ]
    }
   ],
   "source": [
    "dic1={1:10,2:20}\n",
    "dic2={3:30,4:40}\n",
    "dic3={5:50,6:60}\n",
    "dic1.update(dic2)\n",
    "dic1.update(dic3)\n",
    "print(dic1)"
   ]
  },
  {
   "cell_type": "code",
   "execution_count": 47,
   "metadata": {},
   "outputs": [
    {
     "name": "stdout",
     "output_type": "stream",
     "text": [
      "{'red': '#FF0000', 'green': '#008000', 'black': '#000000', 'white': '#FFFFFF'}\n"
     ]
    },
    {
     "ename": "AttributeError",
     "evalue": "'dict' object has no attribute 'sorted'",
     "output_type": "error",
     "traceback": [
      "\u001b[1;31m---------------------------------------------------------------------------\u001b[0m",
      "\u001b[1;31mAttributeError\u001b[0m                            Traceback (most recent call last)",
      "\u001b[1;32mc:\\Users\\DELL\\Desktop\\PYTHON PRACTICE\\dictionary.ipynb Cell 6\u001b[0m line \u001b[0;36m6\n\u001b[0;32m      <a href='vscode-notebook-cell:/c%3A/Users/DELL/Desktop/PYTHON%20PRACTICE/dictionary.ipynb#X10sZmlsZQ%3D%3D?line=0'>1</a>\u001b[0m color_dict\u001b[39m=\u001b[39m{\u001b[39m\"\u001b[39m\u001b[39mred\u001b[39m\u001b[39m\"\u001b[39m:\u001b[39m\"\u001b[39m\u001b[39m#FF0000\u001b[39m\u001b[39m\"\u001b[39m,\n\u001b[0;32m      <a href='vscode-notebook-cell:/c%3A/Users/DELL/Desktop/PYTHON%20PRACTICE/dictionary.ipynb#X10sZmlsZQ%3D%3D?line=1'>2</a>\u001b[0m             \u001b[39m\"\u001b[39m\u001b[39mgreen\u001b[39m\u001b[39m\"\u001b[39m:\u001b[39m\"\u001b[39m\u001b[39m#008000\u001b[39m\u001b[39m\"\u001b[39m,\n\u001b[0;32m      <a href='vscode-notebook-cell:/c%3A/Users/DELL/Desktop/PYTHON%20PRACTICE/dictionary.ipynb#X10sZmlsZQ%3D%3D?line=2'>3</a>\u001b[0m             \u001b[39m\"\u001b[39m\u001b[39mblack\u001b[39m\u001b[39m\"\u001b[39m:\u001b[39m\"\u001b[39m\u001b[39m#000000\u001b[39m\u001b[39m\"\u001b[39m,\n\u001b[0;32m      <a href='vscode-notebook-cell:/c%3A/Users/DELL/Desktop/PYTHON%20PRACTICE/dictionary.ipynb#X10sZmlsZQ%3D%3D?line=3'>4</a>\u001b[0m             \u001b[39m\"\u001b[39m\u001b[39mwhite\u001b[39m\u001b[39m\"\u001b[39m:\u001b[39m\"\u001b[39m\u001b[39m#FFFFFF\u001b[39m\u001b[39m\"\u001b[39m}\n\u001b[0;32m      <a href='vscode-notebook-cell:/c%3A/Users/DELL/Desktop/PYTHON%20PRACTICE/dictionary.ipynb#X10sZmlsZQ%3D%3D?line=4'>5</a>\u001b[0m \u001b[39mprint\u001b[39m(color_dict)\n\u001b[1;32m----> <a href='vscode-notebook-cell:/c%3A/Users/DELL/Desktop/PYTHON%20PRACTICE/dictionary.ipynb#X10sZmlsZQ%3D%3D?line=5'>6</a>\u001b[0m color_dict\u001b[39m.\u001b[39;49msorted()\n\u001b[0;32m      <a href='vscode-notebook-cell:/c%3A/Users/DELL/Desktop/PYTHON%20PRACTICE/dictionary.ipynb#X10sZmlsZQ%3D%3D?line=6'>7</a>\u001b[0m \u001b[39mprint\u001b[39m(color_dict)\n",
      "\u001b[1;31mAttributeError\u001b[0m: 'dict' object has no attribute 'sorted'"
     ]
    }
   ],
   "source": [
    "color_dict={\"red\":\"#FF0000\",\n",
    "            \"green\":\"#008000\",\n",
    "            \"black\":\"#000000\",\n",
    "            \"white\":\"#FFFFFF\"}\n",
    "print(color_dict)\n",
    "color_dict.sorted('red')\n",
    "print(color_dict)"
   ]
  }
 ],
 "metadata": {
  "kernelspec": {
   "display_name": "Python 3",
   "language": "python",
   "name": "python3"
  },
  "language_info": {
   "codemirror_mode": {
    "name": "ipython",
    "version": 3
   },
   "file_extension": ".py",
   "mimetype": "text/x-python",
   "name": "python",
   "nbconvert_exporter": "python",
   "pygments_lexer": "ipython3",
   "version": "3.11.4"
  }
 },
 "nbformat": 4,
 "nbformat_minor": 2
}
