{
 "cells": [
  {
   "cell_type": "code",
   "execution_count": 1,
   "metadata": {},
   "outputs": [
    {
     "name": "stdout",
     "output_type": "stream",
     "text": [
      "num is odd\n"
     ]
    }
   ],
   "source": [
    "num=int(input(\"enter the numner:\"))\n",
    "if num%2 == 0:\n",
    "    print(\"num is even\")\n",
    "else:\n",
    "    print(\"num is odd\")"
   ]
  },
  {
   "cell_type": "code",
   "execution_count": 3,
   "metadata": {},
   "outputs": [
    {
     "name": "stdout",
     "output_type": "stream",
     "text": [
      "a is equal to b\n"
     ]
    }
   ],
   "source": [
    "# elif\n",
    "a=3\n",
    "b=3\n",
    "if a==b:\n",
    "    print(\"a is equal to b\")\n",
    "elif a>b:\n",
    "    print(\"a is greater than b\")\n",
    "else:\n",
    "    print(\"a is does not equal to b\")"
   ]
  },
  {
   "cell_type": "code",
   "execution_count": 12,
   "metadata": {},
   "outputs": [
    {
     "name": "stdout",
     "output_type": "stream",
     "text": [
      "a is greater then 10\n",
      "a is less than 20\n"
     ]
    }
   ],
   "source": [
    "#--------------------------------------------------nesting-------------------------------------------------------------------------\n",
    "a=19\n",
    "if a>10:\n",
    "    print(\"a is greater then 10\")\n",
    "    if a>20:\n",
    "        print(\"a is also greater than 20\")\n",
    "    else:\n",
    "        print(\"a is less than 20\")\n",
    "elif a<0:\n",
    "    print(\"a munus main hai\")\n",
    "else:\n",
    "    print(\"mujhe nhi pta\")        \n"
   ]
  },
  {
   "cell_type": "code",
   "execution_count": 17,
   "metadata": {},
   "outputs": [
    {
     "name": "stdout",
     "output_type": "stream",
     "text": [
      "barish hai rahi hai shab\n",
      "jado bhi pad raho hai\n"
     ]
    }
   ],
   "source": [
    "#--------------------------------------------------nesting-------------------------------------------------------------------------\n",
    "is_raining=True\n",
    "is_cold=True\n",
    "if is_raining:\n",
    "    print(\"barish hai rahi hai shab\")\n",
    "    if is_cold:\n",
    "        print(\"jado bhi pad raho hai\")\n",
    "    else:\n",
    "        print(\"itno jado nai\")\n",
    "else:\n",
    "    print(\"barish nho ho rahi\")"
   ]
  },
  {
   "cell_type": "code",
   "execution_count": 7,
   "metadata": {},
   "outputs": [
    {
     "name": "stdout",
     "output_type": "stream",
     "text": [
      "a, b and c are equal\n"
     ]
    }
   ],
   "source": [
    "a=int(input(\"enter the number\"))\n",
    "b=int(input(\"enter the num\"))\n",
    "c=int(input(\"enter the n0.\"))\n",
    "if a>b and a>c:\n",
    "    print(\"a is greater than b and c\")\n",
    "elif b>c and b>c:\n",
    "    print(\"b is greater than a and c\")\n",
    "elif a == b and b == c:\n",
    "    print(\"a, b and c are equal\")\n",
    "else:\n",
    "    print(\"c is greater than a and b\")"
   ]
  },
  {
   "cell_type": "code",
   "execution_count": 8,
   "metadata": {},
   "outputs": [
    {
     "name": "stdout",
     "output_type": "stream",
     "text": [
      "you are not eligable\n"
     ]
    }
   ],
   "source": [
    "age=3\n",
    "if age >= 18:\n",
    "    print(\"you are good and eligable to vote\")\n",
    "else:\n",
    "    print(\"you are not eligable\")"
   ]
  },
  {
   "cell_type": "code",
   "execution_count": 11,
   "metadata": {},
   "outputs": [
    {
     "name": "stdout",
     "output_type": "stream",
     "text": [
      "1.0\n"
     ]
    }
   ],
   "source": [
    "#---------------------------------------calculator----------------------------------------------------\n",
    "num_1=int(input(\"enter the first number\"))\n",
    "num_2=int(input(\"enter the second number\"))\n",
    "operation=input(\"enter the operation+/_/*/z\")\n",
    "if operation == \"+\":\n",
    "    d=num_1+num_2\n",
    "    print(d)\n",
    "elif operation == \"-\":\n",
    "    d=num_1-num_2\n",
    "    print(d)\n",
    "elif operation == \"*\":\n",
    "    d=num_1*num_2\n",
    "    print(d)\n",
    "elif operation == \"/\":\n",
    "    d=num_1/num_2\n",
    "    print(d)\n",
    "else:\n",
    "    print(\"error\")"
   ]
  },
  {
   "cell_type": "code",
   "execution_count": null,
   "metadata": {},
   "outputs": [],
   "source": []
  }
 ],
 "metadata": {
  "kernelspec": {
   "display_name": "Python 3",
   "language": "python",
   "name": "python3"
  },
  "language_info": {
   "codemirror_mode": {
    "name": "ipython",
    "version": 3
   },
   "file_extension": ".py",
   "mimetype": "text/x-python",
   "name": "python",
   "nbconvert_exporter": "python",
   "pygments_lexer": "ipython3",
   "version": "3.11.4"
  }
 },
 "nbformat": 4,
 "nbformat_minor": 2
}
