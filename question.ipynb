{
 "cells": [
  {
   "cell_type": "code",
   "execution_count": 6,
   "metadata": {},
   "outputs": [
    {
     "name": "stdout",
     "output_type": "stream",
     "text": [
      "2 is smallet than 4\n"
     ]
    }
   ],
   "source": [
    "#Number Comparison\n",
    "#=Problem: Write a program that reads two numbers \n",
    "#from the user and determines which one is greater or if they are equal.\n",
    "\n",
    "num_1=int(input(\"enter the number1:\"))\n",
    "num_2=int(input(\"enter the number2:\"))\n",
    "if num_1>num_2:\n",
    "    print(f\"{num_1} is greatre than {num_2}\")\n",
    "else:\n",
    "    print(f\"{num_1} is smallet than {num_2}\")\n"
   ]
  },
  {
   "cell_type": "code",
   "execution_count": 7,
   "metadata": {},
   "outputs": [
    {
     "name": "stdout",
     "output_type": "stream",
     "text": [
      "False\n"
     ]
    }
   ],
   "source": [
    "# Example\n",
    "# Explanation:\n",
    "# 1. `not z` is evaluated first because `not` has the highest precedence. Since `z` is \n",
    "# `True`, `not z` evaluates to `False`.\n",
    "# 2. Next, `x and y` is evaluated. `and` has higher precedence than `or`, so this \n",
    "# operation is performed first. `x` is `True` and `y` is `False`, so `x and y` evaluates \n",
    "# to `False`.\n",
    "# 3. Finally, the result of `False or False` (which is the result of `x and y`) and \n",
    "# `False` (the result of `not z`) is evaluated. Since `or` has lower precedence, it is \n",
    "# evaluated last. `False or False` evaluates to `False`.\n",
    "# The final result is `False`.\n",
    "\n",
    "\n",
    "\n",
    "\n",
    "x = True\n",
    "y = False\n",
    "z = True\n",
    "result = x and y or not z\n",
    "print(result)"
   ]
  },
  {
   "cell_type": "code",
   "execution_count": 4,
   "metadata": {},
   "outputs": [
    {
     "name": "stdout",
     "output_type": "stream",
     "text": [
      "number is negative\n"
     ]
    }
   ],
   "source": [
    "#Positive, Negative, Zero\n",
    "# Problem: Build a program that reads a number from the \n",
    "#user and determines whether it is positive, negative, or zero\n",
    "\n",
    "number=int(input(\"enter the number\"))\n",
    "if number > 0:\n",
    "    print(\"number is positive\")       \n",
    "elif number < 0:\n",
    "    print(\"number is negative\")  \n",
    "elif number == 0:\n",
    "    print(\"number is zero\")\n",
    "else:\n",
    "    print(\"error\")"
   ]
  },
  {
   "cell_type": "code",
   "execution_count": 1,
   "metadata": {},
   "outputs": [
    {
     "name": "stdout",
     "output_type": "stream",
     "text": [
      "A\n"
     ]
    }
   ],
   "source": [
    "#Grading System\n",
    "# Problem: Create a program that reads a student's exam score from the user and \n",
    "#assigns a grade based on the following criteria: \n",
    "#90-100 (A), 80-89 (B), 70-79 (C), 60-69 (D), below 60 (F).\n",
    "\n",
    "score=int(input(\"enter the srore\"))\n",
    "if  score >90 and score <100:\n",
    "    print(\"A\")\n",
    "elif score >80 and score <89:\n",
    "    print(\"B\")\n",
    "elif score >70 and score <79:\n",
    "    print(\"C\")\n",
    "elif score >60 and score <69:\n",
    "    print(\"D\")\n",
    "else:\n",
    "    print(\"F\")"
   ]
  },
  {
   "cell_type": "code",
   "execution_count": 2,
   "metadata": {},
   "outputs": [
    {
     "name": "stdout",
     "output_type": "stream",
     "text": [
      "number is odd\n"
     ]
    }
   ],
   "source": [
    "#Number Parity\n",
    "# Problem: Write a program that takes an integer \n",
    "#from the user and determines whether it's even or odd.\n",
    "\n",
    "number=int(input(\"enter the number:\"))\n",
    "if number % 2 == 0:\n",
    "    print(\"number is even \")\n",
    "else:\n",
    "    print(\"number is odd\")"
   ]
  },
  {
   "cell_type": "code",
   "execution_count": null,
   "metadata": {},
   "outputs": [],
   "source": [
    "#Nested if for Age and Movie Rating\n",
    "# Problem: Develop a program that asks the user for \n",
    "#their age and checks whether they are eligible to watch a\n",
    "#movie rated as follows: PG (age 7 and above), PG-13 (age 13 and above), \n",
    "#R (age 17 and above), NC-17 (age 18 and above).\n",
    "\n",
    "age=int(input(\"enter the number\"))\n",
    "if age >7 and age <13:\n",
    "    print(\"you are eligible for PG\")"
   ]
  },
  {
   "cell_type": "code",
   "execution_count": 10,
   "metadata": {},
   "outputs": [
    {
     "name": "stdout",
     "output_type": "stream",
     "text": [
      "your entry ticket price is $10\n"
     ]
    }
   ],
   "source": [
    "#Ticket Price\n",
    "# Problem: Create a program that reads a person's age and determines the \n",
    "#ticket price \n",
    "#for a theme park based on the following rules: \n",
    "#Age 0-3 (free), Age 4-12 ($10), Age 13-17 ($15), Age 18 and above ($20).\n",
    "\n",
    "age=int(input(\"enter the age\"))\n",
    "if age > 0 and age <= 3:\n",
    "    print(\"your entry is free\")\n",
    "elif age >= 4 and age <= 12:\n",
    "    print(\"your entry ticket price is $10\")\n",
    "elif age >= 13 and age <= 17:\n",
    "    print(\" your entry ticket price is $15\")\n",
    "else:\n",
    "    print(\"your entry ticket prize is $20\")"
   ]
  },
  {
   "cell_type": "code",
   "execution_count": 8,
   "metadata": {},
   "outputs": [
    {
     "name": "stdout",
     "output_type": "stream",
     "text": [
      "you are wrong try again\n"
     ]
    }
   ],
   "source": [
    "#Guess the Number\n",
    "# Problem: Write a program that generates a random number between 1 and 100 and \n",
    "#lets the user guess it. Provide feedback whether the guess is \n",
    "#too high, too low, or correct. Repeat until the user guesses correctly.\n",
    "\n",
    "\n",
    "number=int(input(\"entre the number between 1 to 100\"))\n",
    "while(True):\n",
    "    if number == 2:\n",
    "        print(\"you are correct\")\n",
    "    else:\n",
    "        print(\"you are wrong try again\")\n",
    "        break\n"
   ]
  },
  {
   "cell_type": "code",
   "execution_count": null,
   "metadata": {},
   "outputs": [],
   "source": [
    "#Voting Eligibility\n",
    "# Problem: Create a program that reads a person's age and citizenship status,\n",
    "# and determines if they are eligible to vote in an election. \n",
    "#Eligibility criteria: Age 18 and above, and a citizen."
   ]
  },
  {
   "cell_type": "code",
   "execution_count": null,
   "metadata": {},
   "outputs": [],
   "source": [
    "#Triangle Classification\n",
    "# Problem: Write a program that reads the lengths of three sides of a triangle and \n",
    "#determines whether it is equilateral (all sides equal), \n",
    "#isosceles (two sides equal), or scalene (no sides equal).\n"
   ]
  },
  {
   "cell_type": "code",
   "execution_count": null,
   "metadata": {},
   "outputs": [],
   "source": [
    "#Vowel or Consonant\n",
    "# Problem: Create a program that reads a character from the user and determines \n",
    "#whether it is a vowel or a consonant. \n",
    "#Assume the input is a lowercase letter."
   ]
  },
  {
   "cell_type": "code",
   "execution_count": null,
   "metadata": {},
   "outputs": [],
   "source": [
    "#Arithmetic Operations\n",
    "# Problem: Create a program that reads two numbers from the user and \n",
    "#performs the following arithmetic operations:\n",
    "# Addition\n",
    "# Subtraction\n",
    "# Division\n",
    "# Modulus (Remainder)\n",
    "# Floor Division\n",
    "# Exponentiation (Power)\n",
    "# For each operation, display the result along with a meaningful message.\n",
    "# Read two numbers from the user"
   ]
  },
  {
   "cell_type": "code",
   "execution_count": null,
   "metadata": {},
   "outputs": [],
   "source": [
    "#Eligibility for Student Council\n",
    "# Problem: Write a program that reads a student's grade and whether they have a \n",
    "# clean disciplinary record. Determine if the student is eligible to run \n",
    "# for the student council, \n",
    "# given the criteria: Grade 9-12 and clean disciplinary record."
   ]
  },
  {
   "cell_type": "code",
   "execution_count": null,
   "metadata": {},
   "outputs": [],
   "source": [
    "#Movie Ticket Discount\n",
    "# Problem: Create a program that determines if a customer is eligible for a \n",
    "# movie ticket discount. The criteria are having a \n",
    "# student ID or being a senior citizen (age 60 and above)."
   ]
  },
  {
   "cell_type": "code",
   "execution_count": null,
   "metadata": {},
   "outputs": [],
   "source": [
    "#Username and Password Validation\n",
    "# Problem: Write a program that reads a username and password from the user. \n",
    "# Validate whether both the username and password meet certain criteria: \n",
    "# Username length at least 5 characters and password length at least 8 characters."
   ]
  },
  {
   "cell_type": "code",
   "execution_count": null,
   "metadata": {},
   "outputs": [],
   "source": [
    "#Ticket Availability\n",
    "# Problem: Create a program that determines whether a user can book tickets for a concert. \n",
    "# The criteria are having enough available tickets and being older than 10 years."
   ]
  },
  {
   "cell_type": "code",
   "execution_count": null,
   "metadata": {},
   "outputs": [],
   "source": [
    "#Number Range\n",
    "# Problem: Write a program that reads a number from the user and \n",
    "# determines if it is in the range of 10 to 50 (inclusive) or not."
   ]
  },
  {
   "cell_type": "code",
   "execution_count": null,
   "metadata": {},
   "outputs": [],
   "source": [
    "#Loan Eligibility\n",
    "# Problem: Create a program that determines whether a person is eligible for a loan. \n",
    "# The criteria are having a credit score of 700 or \n",
    "# above and an annual income of at least $50,000."
   ]
  },
  {
   "cell_type": "code",
   "execution_count": null,
   "metadata": {},
   "outputs": [],
   "source": [
    "#Entrance Fee\n",
    "# Problem: Write a program that calculates the entrance fee for a zoo based on age. \n",
    "# Children (age 0-12) pay $5, \n",
    "# adults (age 13-64) pay $10, and seniors (age 65 and above) pay $7."
   ]
  },
  {
   "cell_type": "code",
   "execution_count": null,
   "metadata": {},
   "outputs": [],
   "source": [
    "#Credit Card Validation\n",
    "# Problem: Develop a program that validates a credit card based on the card's \n",
    "# expiration month (1-12) and whether it's a Mastercard or Visa."
   ]
  },
  {
   "cell_type": "code",
   "execution_count": null,
   "metadata": {},
   "outputs": [],
   "source": [
    "#Discount Calculation\n",
    "# Problem: Write a program that calculates the total cost of an item after applying a \n",
    "# discount. If the purchase amount is at least $100 and \n",
    "# the customer is a member (yes/no), a 10% discount is applied."
   ]
  },
  {
   "cell_type": "code",
   "execution_count": null,
   "metadata": {},
   "outputs": [],
   "source": [
    "#Scholarship Eligibility\n",
    "# Problem: Create a program that determines if a student is eligible for \n",
    "# a scholarship based on their GPA (>=3.5) and \n",
    "# participation in extracurricular activities (yes/no).\n"
   ]
  },
  {
   "cell_type": "code",
   "execution_count": null,
   "metadata": {},
   "outputs": [],
   "source": [
    "#Fast Food Menu Selection\n",
    "# Problem: Build a program for a fast-food restaurant that recommends a meal \n",
    "# based on customer preferences. \n",
    "# Consider vegetarian, budget, and time constraints."
   ]
  },
  {
   "cell_type": "code",
   "execution_count": null,
   "metadata": {},
   "outputs": [],
   "source": [
    "#Vacation Planner\n",
    "# Problem: Write a program that helps users plan their vacation \n",
    "# destination based on weather conditions and budget. \n",
    "# Consider temperature (warm or cold) and budget constraints"
   ]
  },
  {
   "cell_type": "code",
   "execution_count": null,
   "metadata": {},
   "outputs": [],
   "source": [
    "#BMI Calculator and Classification\n",
    "# Problem: Write a program that calculates the Body Mass Index (BMI) of a \n",
    "# person based on their weight and height. \n",
    "#formula -weight / (height ** 2)\n",
    "#less than 18.5 - \"Underweight\" less than 25 - \"Normal\" less than 30 -\"Overweight\"\n",
    "#last option - \"Obese\"\n",
    "# Classify the BMI as underweight, normal weight, overweight, or obese.\n"
   ]
  },
  {
   "cell_type": "code",
   "execution_count": null,
   "metadata": {},
   "outputs": [],
   "source": [
    "#Movie Recommendation\n",
    "# Problem: Build a program that recommends a movie genre based on the \n",
    "# user's mood (happy or sad) and \n",
    "# age group (child or adult)."
   ]
  },
  {
   "cell_type": "code",
   "execution_count": null,
   "metadata": {},
   "outputs": [],
   "source": [
    "#Ticket Pricing and Age Categories\n",
    "# Problem: Write a program that determines the price of a ticket for a show based on age. \n",
    "# Categories: Child (3-12), Adult (13-64), and Senior (65 and above)."
   ]
  },
  {
   "cell_type": "code",
   "execution_count": null,
   "metadata": {},
   "outputs": [],
   "source": [
    "#Weather Adviser\n",
    "# Problem: Develop a program that gives advice based on weather conditions and\n",
    "# the user's preferences. \n",
    "# Consider temperature and whether it's raining.\n"
   ]
  }
 ],
 "metadata": {
  "kernelspec": {
   "display_name": "Python 3",
   "language": "python",
   "name": "python3"
  },
  "language_info": {
   "codemirror_mode": {
    "name": "ipython",
    "version": 3
   },
   "file_extension": ".py",
   "mimetype": "text/x-python",
   "name": "python",
   "nbconvert_exporter": "python",
   "pygments_lexer": "ipython3",
   "version": "3.11.4"
  }
 },
 "nbformat": 4,
 "nbformat_minor": 2
}
