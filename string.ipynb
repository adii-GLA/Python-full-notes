{
 "cells": [
  {
   "cell_type": "code",
   "execution_count": 7,
   "metadata": {},
   "outputs": [
    {
     "name": "stdout",
     "output_type": "stream",
     "text": [
      "my name is aditya 12345678\n",
      "<class 'str'>\n"
     ]
    }
   ],
   "source": [
    "srt_1=\"my name is aditya 12345678\"\n",
    "print(srt_1)\n",
    "print(type(srt_1))"
   ]
  },
  {
   "cell_type": "code",
   "execution_count": 22,
   "metadata": {},
   "outputs": [
    {
     "name": "stdout",
     "output_type": "stream",
     "text": [
      "aditya pratap singh\n",
      "19\n",
      "aditya pra\n",
      "r\n",
      "hgnis patarp aytida\n"
     ]
    }
   ],
   "source": [
    "my_str=\"aditya pratap singh\"\n",
    "print(my_str)\n",
    "print(len(my_str))\n",
    "print(my_str[:10])\n",
    "print(my_str[-11])\n",
    "print(my_str[::-1])"
   ]
  },
  {
   "cell_type": "code",
   "execution_count": 29,
   "metadata": {},
   "outputs": [
    {
     "name": "stdout",
     "output_type": "stream",
     "text": [
      "<class 'tuple'>\n",
      "()\n",
      "<class 'tuple'>\n",
      "(212,)\n",
      "<class 'str'>\n",
      "212\n"
     ]
    }
   ],
   "source": [
    "emptytuple=()\n",
    "print(type(emptytuple))\n",
    "print(emptytuple)\n",
    "onetuple=(212,)\n",
    "print(type(onetuple))\n",
    "print(onetuple)\n",
    "onetuple1=(\"212\")\n",
    "print(type(onetuple1))\n",
    "print(onetuple1)"
   ]
  },
  {
   "cell_type": "code",
   "execution_count": 34,
   "metadata": {},
   "outputs": [
    {
     "name": "stdout",
     "output_type": "stream",
     "text": [
      "<class 'tuple'>\n",
      "4\n"
     ]
    }
   ],
   "source": [
    "typle_1=(912,12.3,\"aditya\",True)\n",
    "print(type(typle_1))\n",
    "print(len(typle_1))"
   ]
  },
  {
   "cell_type": "code",
   "execution_count": 15,
   "metadata": {},
   "outputs": [
    {
     "name": "stdout",
     "output_type": "stream",
     "text": [
      "pratap sing\n"
     ]
    }
   ],
   "source": [
    "my_str=\"aditya pratap singh\"\n",
    "print(my_str[-12:-1])"
   ]
  },
  {
   "cell_type": "code",
   "execution_count": 45,
   "metadata": {},
   "outputs": [
    {
     "name": "stdout",
     "output_type": "stream",
     "text": [
      "[['liz', 1.73], ['emma', 1.34]]\n"
     ]
    }
   ],
   "source": [
    "fam=[[\"liz\",               1.73],\n",
    "    [\"emma\",1.34]]\n",
    "print(fam)"
   ]
  }
 ],
 "metadata": {
  "kernelspec": {
   "display_name": "Python 3",
   "language": "python",
   "name": "python3"
  },
  "language_info": {
   "codemirror_mode": {
    "name": "ipython",
    "version": 3
   },
   "file_extension": ".py",
   "mimetype": "text/x-python",
   "name": "python",
   "nbconvert_exporter": "python",
   "pygments_lexer": "ipython3",
   "version": "3.11.4"
  }
 },
 "nbformat": 4,
 "nbformat_minor": 2
}
