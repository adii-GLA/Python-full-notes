{
 "cells": [
  {
   "cell_type": "markdown",
   "metadata": {},
   "source": []
  },
  {
   "cell_type": "code",
   "execution_count": 9,
   "metadata": {},
   "outputs": [
    {
     "name": "stdout",
     "output_type": "stream",
     "text": [
      "------------------------------------------TUPLE-----------------------------------------------\n"
     ]
    }
   ],
   "source": [
    "print(\"------------------------------------------TUPLE-----------------------------------------------\")"
   ]
  },
  {
   "cell_type": "code",
   "execution_count": 10,
   "metadata": {},
   "outputs": [
    {
     "name": "stdout",
     "output_type": "stream",
     "text": [
      "('aditya', 'sumit', 'sachin') ('aditya', 'sumit', 'sachin')\n"
     ]
    }
   ],
   "source": [
    "tuple_1=('aditya','sumit','sachin')\n",
    "tuple_2=('aditya','sumit','sachin')\n",
    "print(tuple_1,tuple_2)"
   ]
  },
  {
   "cell_type": "code",
   "execution_count": 6,
   "metadata": {},
   "outputs": [
    {
     "name": "stdout",
     "output_type": "stream",
     "text": [
      "aditya\n",
      "sumit\n",
      "sachin\n"
     ]
    }
   ],
   "source": [
    "tuple_1=('aditya','sumit','sachin')\n",
    "for x in tuple_1:\n",
    "    print(x)"
   ]
  },
  {
   "cell_type": "code",
   "execution_count": 11,
   "metadata": {},
   "outputs": [
    {
     "name": "stdout",
     "output_type": "stream",
     "text": [
      "aditya\n",
      "pratap\n",
      "singh\n"
     ]
    }
   ],
   "source": [
    "thistuple=(\"aditya\",\"pratap\",\"singh\")\n",
    "for i in range(len(thistuple)):\n",
    "    print(thistuple[i])"
   ]
  }
 ],
 "metadata": {
  "kernelspec": {
   "display_name": "Python 3",
   "language": "python",
   "name": "python3"
  },
  "language_info": {
   "codemirror_mode": {
    "name": "ipython",
    "version": 3
   },
   "file_extension": ".py",
   "mimetype": "text/x-python",
   "name": "python",
   "nbconvert_exporter": "python",
   "pygments_lexer": "ipython3",
   "version": "3.11.4"
  }
 },
 "nbformat": 4,
 "nbformat_minor": 2
}
